{
 "cells": [
  {
   "cell_type": "code",
   "execution_count": null,
   "metadata": {},
   "outputs": [],
   "source": [
    "#Chinmay Bake Machine Learning Assignment 4 "
   ]
  },
  {
   "cell_type": "code",
   "execution_count": 59,
   "metadata": {},
   "outputs": [],
   "source": [
    "from pyspark.sql import SparkSession\n",
    "import pandas as pd\n",
    "import numpy as np\n",
    "import matplotlib.pyplot as plt \n",
    "from pyspark.ml.linalg import Vector\n",
    "from pyspark.ml.feature import VectorAssembler\n",
    "from pyspark.ml.evaluation import ClusteringEvaluator\n",
    "spark=SparkSession.builder.appName('K_Means_Clustering').getOrCreate()\n",
    "main_df=spark.read.csv(r'C:\\Users\\chinm\\Downloads\\UberApril14.csv',inferSchema=True,header=True)"
   ]
  },
  {
   "cell_type": "code",
   "execution_count": 61,
   "metadata": {},
   "outputs": [
    {
     "name": "stdout",
     "output_type": "stream",
     "text": [
      "+----------------+-------+--------+------+\n",
      "|Date/Time       |Lat    |Lon     |Base  |\n",
      "+----------------+-------+--------+------+\n",
      "|4/1/2014 0:11:00|40.769 |-73.9549|B02512|\n",
      "|4/1/2014 0:17:00|40.7267|-74.0345|B02512|\n",
      "|4/1/2014 0:21:00|40.7316|-73.9873|B02512|\n",
      "|4/1/2014 0:28:00|40.7588|-73.9776|B02512|\n",
      "|4/1/2014 0:33:00|40.7594|-73.9722|B02512|\n",
      "|4/1/2014 0:33:00|40.7383|-74.0403|B02512|\n",
      "|4/1/2014 0:39:00|40.7223|-73.9887|B02512|\n",
      "|4/1/2014 0:45:00|40.762 |-73.979 |B02512|\n",
      "|4/1/2014 0:55:00|40.7524|-73.996 |B02512|\n",
      "|4/1/2014 1:01:00|40.7575|-73.9846|B02512|\n",
      "+----------------+-------+--------+------+\n",
      "only showing top 10 rows\n",
      "\n"
     ]
    }
   ],
   "source": [
    "main_df.show(10,False)"
   ]
  },
  {
   "cell_type": "code",
   "execution_count": 62,
   "metadata": {},
   "outputs": [
    {
     "name": "stdout",
     "output_type": "stream",
     "text": [
      "(564516, 4)\n"
     ]
    }
   ],
   "source": [
    "#Q1 What is the shape of the data contained in the UberApril14.CSV?\n",
    "\n",
    "print((main_df.count(), len(main_df.columns)))"
   ]
  },
  {
   "cell_type": "code",
   "execution_count": 63,
   "metadata": {},
   "outputs": [
    {
     "name": "stdout",
     "output_type": "stream",
     "text": [
      "+------+------+\n",
      "|Base  |count |\n",
      "+------+------+\n",
      "|B02764|9908  |\n",
      "|B02512|35536 |\n",
      "|B02617|108001|\n",
      "|B02598|183263|\n",
      "|B02682|227808|\n",
      "+------+------+\n",
      "\n"
     ]
    }
   ],
   "source": [
    "#Q2 How many Uber trips were recorded for each company (by base code). \n",
    "\n",
    "main_df.groupBy('Base').count().orderBy('count').show(10,False)"
   ]
  },
  {
   "cell_type": "code",
   "execution_count": 64,
   "metadata": {},
   "outputs": [
    {
     "data": {
      "text/plain": [
       "'As we could observe in the above code, the trip count is substantially dominated by base:B02682 and base:B02598.\\nSo that we could essentially conclude that majority of the data points (more than 50%) are concentrated and distributed \\namongst the bases mentioned previously. Base:B02764 has a concentration of less than 2% of data points.'"
      ]
     },
     "execution_count": 64,
     "metadata": {},
     "output_type": "execute_result"
    }
   ],
   "source": [
    "#Q2 What can you say about the distribution trips among companies? Are there companies that dominate in terms of the percentage share of the trips? \n",
    "\n",
    "'''As we could observe in the above code, the trip count is substantially dominated by base:B02682 and base:B02598.\n",
    "So that we could essentially conclude that majority of the data points (more than 50%) are concentrated and distributed \n",
    "amongst the bases mentioned previously. Base:B02764 has a concentration of less than 2% of data points.'''"
   ]
  },
  {
   "cell_type": "code",
   "execution_count": 67,
   "metadata": {},
   "outputs": [
    {
     "data": {
      "text/plain": [
       "['Date/Time', 'Lat', 'Lon', 'Base']"
      ]
     },
     "execution_count": 67,
     "metadata": {},
     "output_type": "execute_result"
    }
   ],
   "source": [
    "# Q3 What features (or attributes) are recorded for each Uber trip? \n",
    "\n",
    "main_df.columns"
   ]
  },
  {
   "cell_type": "code",
   "execution_count": 68,
   "metadata": {},
   "outputs": [
    {
     "data": {
      "text/plain": [
       "'Although the Date/Time variable might require a transformation in order for us to vectorize it and put it across \\nas an input column; but the variable itself is not very significant with respect to our probelm statement. We have been \\nasked to formulate clusters based on the pick up location and its corresponding base company. In this context, the date/time\\nvariable is not exactly required for the formation of clusters.'"
      ]
     },
     "execution_count": 68,
     "metadata": {},
     "output_type": "execute_result"
    }
   ],
   "source": [
    "#Q3 Does any attribute require transformation because of data type requirements in Clustering? If so, identify the feature and comment on the type of transformation required. Include these comments in your notebook\n",
    "\n",
    "'''Although the Date/Time variable might require a transformation in order for us to vectorize it and put it across \n",
    "as an input column; but the variable itself is not very significant with respect to our probelm statement. We have been \n",
    "asked to formulate clusters based on the pick up location and its corresponding base company. In this context, the date/time\n",
    "variable is not exactly required for the formation of clusters.'''"
   ]
  },
  {
   "cell_type": "code",
   "execution_count": 69,
   "metadata": {},
   "outputs": [],
   "source": [
    "#Q4 Perform the transformations, if any, identified in step # 3. Perform feature engineering if and where needed, including vectorization of relevant variables. Provide a printout of the schema of your feature-engineered data.\n",
    "\n",
    "IP_df=main_df.select('Lat','Lon','Base')\n",
    "input_cols=['Lat','Lon']\n",
    "vec_assembler = VectorAssembler(inputCols = input_cols, outputCol=\"features\")\n",
    "transformed_df = vec_assembler.transform(IP_df)"
   ]
  },
  {
   "cell_type": "code",
   "execution_count": 70,
   "metadata": {},
   "outputs": [
    {
     "name": "stdout",
     "output_type": "stream",
     "text": [
      "root\n",
      " |-- Lat: double (nullable = true)\n",
      " |-- Lon: double (nullable = true)\n",
      " |-- Base: string (nullable = true)\n",
      " |-- features: vector (nullable = true)\n",
      "\n"
     ]
    }
   ],
   "source": [
    "#Q4 Provide a printout of the schema of your feature-engineered data.\n",
    "\n",
    "transformed_df.printSchema()"
   ]
  },
  {
   "cell_type": "code",
   "execution_count": 71,
   "metadata": {},
   "outputs": [],
   "source": [
    "#Q5 To train and then test your model, split the data from UberApril14 into training and test datasets using a 75/25 split\n",
    "\n",
    "training_df,testing_df=transformed_df.randomSplit([0.75,0.25])"
   ]
  },
  {
   "cell_type": "code",
   "execution_count": 72,
   "metadata": {},
   "outputs": [
    {
     "name": "stdout",
     "output_type": "stream",
     "text": [
      "(423558, 4)\n"
     ]
    }
   ],
   "source": [
    "#Shape of the Training data \n",
    "\n",
    "print((training_df.count(), len(training_df.columns)))"
   ]
  },
  {
   "cell_type": "code",
   "execution_count": 73,
   "metadata": {},
   "outputs": [
    {
     "name": "stdout",
     "output_type": "stream",
     "text": [
      "+------+------+\n",
      "|Base  |count |\n",
      "+------+------+\n",
      "|B02764|7399  |\n",
      "|B02512|26491 |\n",
      "|B02617|81121 |\n",
      "|B02598|137647|\n",
      "|B02682|170900|\n",
      "+------+------+\n",
      "\n"
     ]
    }
   ],
   "source": [
    "#Distribution count of the Training data amongst the base companies\n",
    "\n",
    "training_df.groupBy('Base').count().orderBy('count').show(10,False)"
   ]
  },
  {
   "cell_type": "code",
   "execution_count": 74,
   "metadata": {},
   "outputs": [
    {
     "name": "stdout",
     "output_type": "stream",
     "text": [
      "(140958, 4)\n"
     ]
    }
   ],
   "source": [
    "#Shape of the testing data \n",
    "\n",
    "print((testing_df.count(), len(testing_df.columns)))"
   ]
  },
  {
   "cell_type": "code",
   "execution_count": 75,
   "metadata": {},
   "outputs": [
    {
     "name": "stdout",
     "output_type": "stream",
     "text": [
      "+------+-----+\n",
      "|Base  |count|\n",
      "+------+-----+\n",
      "|B02764|2509 |\n",
      "|B02512|9045 |\n",
      "|B02617|26880|\n",
      "|B02598|45616|\n",
      "|B02682|56908|\n",
      "+------+-----+\n",
      "\n"
     ]
    }
   ],
   "source": [
    "#Distribution count of the testing data amongst the base companies\n",
    "\n",
    "testing_df.groupBy('Base').count().orderBy('count').show(10,False)"
   ]
  },
  {
   "cell_type": "code",
   "execution_count": 76,
   "metadata": {},
   "outputs": [
    {
     "data": {
      "text/plain": [
       "'Like we had observed in the main dataset base:B02682 had a concentration of approximately 40% of the data points. \\nIn the training dataset have roughly similar proportion of data points for this base (40.33% to be precise.). \\nLikewise, in the testing dataset the same base has a percentage distribution of 40.40%. For the base company with least \\nshare of data points the percentage distribution for main, training and testing dataset is 1.7%, 1.744% and\\n1.786% respectively. This generically implies that both training and testing datasets very well represent the main dataset. '"
      ]
     },
     "execution_count": 76,
     "metadata": {},
     "output_type": "execute_result"
    }
   ],
   "source": [
    "#Q5 Like you did in step 2 above, comment on the percentage distribution of trips among companies in both the training and test datasets. Are they representative of the overall data? Include your answer as comments in the notebook\n",
    "\n",
    "'''Like we had observed in the main dataset base:B02682 had a concentration of approximately 40% of the data points. \n",
    "In the training dataset have roughly similar proportion of data points for this base (40.33% to be precise.). \n",
    "Likewise, in the testing dataset the same base has a percentage distribution of 40.40%. For the base company with least \n",
    "share of data points the percentage distribution for main, training and testing dataset is 1.7%, 1.744% and\n",
    "1.786% respectively. This generically implies that both training and testing datasets very well represent the main dataset. '''"
   ]
  },
  {
   "cell_type": "code",
   "execution_count": 77,
   "metadata": {},
   "outputs": [
    {
     "name": "stdout",
     "output_type": "stream",
     "text": [
      "With K =2\n",
      "The SSE:1012.5962994183361\n",
      "------------------------------------------------------------\n",
      "With K =3\n",
      "The SSE:762.0300800234515\n",
      "------------------------------------------------------------\n",
      "With K =4\n",
      "The SSE:623.998740889746\n",
      "------------------------------------------------------------\n",
      "With K =5\n",
      "The SSE:515.7296176119202\n",
      "------------------------------------------------------------\n",
      "With K =6\n",
      "The SSE:362.8466169140738\n",
      "------------------------------------------------------------\n",
      "With K =7\n",
      "The SSE:303.46222014221064\n",
      "------------------------------------------------------------\n",
      "With K =8\n",
      "The SSE:267.39217122456904\n",
      "------------------------------------------------------------\n",
      "With K =9\n",
      "The SSE:246.61537284918643\n",
      "------------------------------------------------------------\n"
     ]
    },
    {
     "data": {
      "image/png": "[encoded data removed]",
      "text/plain": [
       "<Figure size 432x288 with 1 Axes>"
      ]
     },
     "metadata": {
      "needs_background": "light"
     },
     "output_type": "display_data"
    }
   ],
   "source": [
    "#Q6 Build and train KMeans Clustering model. For this you, will use the Elbow method to identify the number \n",
    "#   of clusters to start the algorithm. Use a seed value to ensure each iteration starts with the same initial \n",
    "#   set of conditions\n",
    "\n",
    "from pyspark.ml.clustering import KMeans\n",
    "errors=[]\n",
    "for k in range(2,10): \n",
    "    kmeans = KMeans(featuresCol='features',k=k).setSeed(2)\n",
    "    model = kmeans.fit(training_df)\n",
    "    intra_distance = model.computeCost(training_df)\n",
    "    errors.append(intra_distance)\n",
    "    print(\"With K ={}\".format(k))\n",
    "    print(\"The SSE:\" + str(intra_distance))\n",
    "    print('---'*20)\n",
    "    \n",
    "cluster_number = range(2,10)\n",
    "plt.xlabel('Number of Clusters (K)')\n",
    "plt.ylabel('SSE')\n",
    "plt.scatter(cluster_number,errors)\n",
    "plt.show()"
   ]
  },
  {
   "cell_type": "code",
   "execution_count": 78,
   "metadata": {},
   "outputs": [
    {
     "name": "stdout",
     "output_type": "stream",
     "text": [
      "With K =7\n",
      "The SSE:303.4638750196525\n",
      "Silhouette Coefficient: 0.6308768112256722\n",
      "------------------------------------------------------------\n",
      "With K =8\n",
      "The SSE:278.00546344639156\n",
      "Silhouette Coefficient: 0.6468558604301607\n",
      "------------------------------------------------------------\n",
      "With K =9\n",
      "The SSE:264.14606539426495\n",
      "Silhouette Coefficient: 0.5105931649679127\n",
      "------------------------------------------------------------\n"
     ]
    },
    {
     "data": {
      "text/plain": [
       "\"From the elbow method analysis, we assume N to be equal to '8'. Now, we will run the KMeans algorithm for (N+1)\\nand (N-1) iterations in order to obtain an optimal value along with computing the Silhoutte coefficient.  \""
      ]
     },
     "execution_count": 78,
     "metadata": {},
     "output_type": "execute_result"
    }
   ],
   "source": [
    "#Q6 Experiment with (n-1) and (n+1) number of clusters, where n is the optimal number found by the Elbow method. For each run, generate the SSE and Silhouette Coefficient. Select the best model on the basis of SSE and Silhouette Coefficient. \n",
    "\n",
    "for k in range(7,10): \n",
    "    kmeans = KMeans(featuresCol='features',k=k)\n",
    "    model = kmeans.fit(training_df)\n",
    "    intra_distance = model.computeCost(training_df)\n",
    "    predictions=model.transform(training_df)\n",
    "    evaluatorObj = ClusteringEvaluator()\n",
    "    silhouette_coeff = evaluatorObj.evaluate(predictions)\n",
    "    print(\"With K ={}\".format(k))\n",
    "    print(\"The SSE:\" + str(intra_distance))\n",
    "    print('Silhouette Coefficient: ' + str(silhouette_coeff))\n",
    "    print('---'*20)\n",
    "\n",
    "'''From the elbow method analysis, we assume N to be equal to '8'. Now, we will run the KMeans algorithm for (N+1)\n",
    "and (N-1) iterations in order to obtain an optimal value along with computing the Silhoutte coefficient.  '''"
   ]
  },
  {
   "cell_type": "code",
   "execution_count": 79,
   "metadata": {},
   "outputs": [
    {
     "name": "stdout",
     "output_type": "stream",
     "text": [
      "The SSE:97.85591604506291\n",
      "Silhouette Coefficient: 0.6313741704456756\n"
     ]
    },
    {
     "data": {
      "text/plain": [
       "'We proceeed with K=8 as it has the an optimal value of SSE and Silhoutte Coefficient amongst the above three selections.\\nAlthough K=9 has a lesser SSE, the Silhoutte Coefficient value also reduces. '"
      ]
     },
     "execution_count": 79,
     "metadata": {},
     "output_type": "execute_result"
    }
   ],
   "source": [
    "#Q7 Using the best trained model from step 6, test the performance of the model against the test dataset. \n",
    "# Again, measure the performance by computing the SSE and Silhouette Coefficient. \n",
    "\n",
    "kmeans = KMeans(featuresCol='features',k=8)\n",
    "model = kmeans.fit(testing_df)\n",
    "predictions=model.transform(testing_df)\n",
    "intra_distance = model.computeCost(testing_df)\n",
    "predictions=model.transform(training_df)\n",
    "evaluatorObj = ClusteringEvaluator()\n",
    "silhouette_coeff = evaluatorObj.evaluate(predictions)\n",
    "print(\"The SSE:\" + str(intra_distance))\n",
    "print('Silhouette Coefficient: ' + str(silhouette_coeff))\n",
    "\n",
    "'''We proceeed with K=8 as it has the an optimal value of SSE and Silhoutte Coefficient amongst the above three selections.\n",
    "Although K=9 has a lesser SSE, the Silhoutte Coefficient value also reduces. '''\n"
   ]
  },
  {
   "cell_type": "code",
   "execution_count": 80,
   "metadata": {},
   "outputs": [
    {
     "name": "stdout",
     "output_type": "stream",
     "text": [
      "+------+----------+-----+\n",
      "|Base  |prediction|count|\n",
      "+------+----------+-----+\n",
      "|B02682|4         |75033|\n",
      "|B02682|2         |65934|\n",
      "|B02598|4         |60109|\n",
      "|B02598|2         |52839|\n",
      "|B02617|4         |36241|\n",
      "|B02617|2         |29444|\n",
      "|B02682|6         |17912|\n",
      "|B02598|6         |15457|\n",
      "|B02512|2         |11717|\n",
      "|B02512|4         |11313|\n",
      "+------+----------+-----+\n",
      "only showing top 10 rows\n",
      "\n"
     ]
    },
    {
     "data": {
      "text/plain": [
       "'With Silhoutte coefficient 0f 0.63 and SSE 0f 97.85, the model performs fairly good with testing data'"
      ]
     },
     "execution_count": 80,
     "metadata": {},
     "output_type": "execute_result"
    }
   ],
   "source": [
    "# Q7 Comment of the accuracy of the clustering model on the basis these metrics as well as by comparing the \n",
    "#    distribution of trips among companies in the original dataset. \n",
    "\n",
    "predictions.groupBy('Base','prediction').count().orderBy('count',ascending=False).show(10,False)\n",
    "\n",
    "'''With Silhoutte coefficient 0f 0.63 and SSE 0f 97.85, the model performs fairly good with testing data'''\n"
   ]
  },
  {
   "cell_type": "code",
   "execution_count": 82,
   "metadata": {},
   "outputs": [
    {
     "name": "stdout",
     "output_type": "stream",
     "text": [
      "+----------+\n",
      "|prediction|\n",
      "+----------+\n",
      "|         3|\n",
      "|         3|\n",
      "|         3|\n",
      "|         3|\n",
      "|         3|\n",
      "|         3|\n",
      "|         3|\n",
      "|         3|\n",
      "|         3|\n",
      "|         3|\n",
      "|         3|\n",
      "|         3|\n",
      "|         3|\n",
      "|         3|\n",
      "|         3|\n",
      "|         3|\n",
      "|         3|\n",
      "|         6|\n",
      "|         6|\n",
      "|         6|\n",
      "+----------+\n",
      "only showing top 20 rows\n",
      "\n"
     ]
    },
    {
     "data": {
      "text/plain": [
       "'Likewise, if we select a specifc base and evaluate what cluster is the value of that base associated with, \\nthen it turns out that for the above base selected, most values are associated with cluster 3. This indiccates \\nthat the model is quite accurate. '"
      ]
     },
     "execution_count": 82,
     "metadata": {},
     "output_type": "execute_result"
    }
   ],
   "source": [
    "# Q7 Comment of the accuracy of the clustering model on the basis these metrics as well as by comparing the \n",
    "#    distribution of trips among companies in the original dataset.\n",
    "\n",
    "predictions.filter(predictions['Base']=='B02682').select('prediction').show()\n",
    "\n",
    "'''Likewise, if we select a specifc base and evaluate what cluster is the value of that base associated with, \n",
    "then it turns out that for the above base selected, most values are associated with cluster 3. This indiccates \n",
    "that the model is quite accurate. '''"
   ]
  },
  {
   "cell_type": "code",
   "execution_count": 83,
   "metadata": {},
   "outputs": [
    {
     "name": "stdout",
     "output_type": "stream",
     "text": [
      "Cluster Centers: \n",
      "[ 40.78663133 -73.87970203]\n",
      "[ 40.65663367 -73.77991524]\n",
      "[ 40.76534843 -73.97322601]\n",
      "[ 40.70109712 -74.19856212]\n",
      "[ 40.73104509 -73.99863783]\n",
      "[ 41.07545185 -73.11281111]\n",
      "[ 40.68871988 -73.96555459]\n",
      "[ 40.97641647 -73.66670784]\n"
     ]
    }
   ],
   "source": [
    "# Q8 Do your own research on evaluation metrics, other than the Silhouette Coefficient, that may be used to measure the performance of the KMeans Clustering algorithm as implemented by pyspark’s MLlib in python. You may want to see how your final model performs on these other metrics. \n",
    "\n",
    "'''We could compute the cluster centroids for the clusters which our model has already assigned. These centroids\n",
    "could be visualised using a 3D plot in order to determine if any data points are close to any other cluster when compared\n",
    "with the current cluster assignment. On this basis, we could contextually analyse and rate our model.'''\n",
    "\n",
    "print(\"Cluster Centers: \")\n",
    "ctr=[]\n",
    "centers = model.clusterCenters()\n",
    "for center in centers:\n",
    "    ctr.append(center)\n",
    "    print(center)"
   ]
  },
  {
   "cell_type": "code",
   "execution_count": null,
   "metadata": {},
   "outputs": [],
   "source": []
  }
 ],
 "metadata": {
  "kernelspec": {
   "display_name": "Python 3",
   "language": "python",
   "name": "python3"
  },
  "language_info": {
   "codemirror_mode": {
    "name": "ipython",
    "version": 3
   },
   "file_extension": ".py",
   "mimetype": "text/x-python",
   "name": "python",
   "nbconvert_exporter": "python",
   "pygments_lexer": "ipython3",
   "version": "3.7.4"
  }
 },
 "nbformat": 4,
 "nbformat_minor": 2
}
